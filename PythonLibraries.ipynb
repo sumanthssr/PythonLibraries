{
 "cells": [
  {
   "cell_type": "code",
   "execution_count": 1,
   "metadata": {},
   "outputs": [],
   "source": [
    "#timeit"
   ]
  },
  {
   "cell_type": "code",
   "execution_count": 8,
   "metadata": {},
   "outputs": [
    {
     "name": "stdout",
     "output_type": "stream",
     "text": [
      "0.0008242600538608258\n"
     ]
    }
   ],
   "source": [
    "import timeit \n",
    "  \n",
    "# code snippet to be executed only once \n",
    "mysetup = \"from math import sqrt\"\n",
    "  \n",
    "# code snippet whose execution time is to be measured \n",
    "mycode = ''' \n",
    "def example(): \n",
    "   [i*i for i in np.xrange(1000)]\n",
    "'''\n",
    "  \n",
    "# timeit statement \n",
    "print(timeit.timeit(setup = mysetup, \n",
    "                    stmt = mycode, \n",
    "                    number = 10000))"
   ]
  },
  {
   "cell_type": "code",
   "execution_count": 19,
   "metadata": {},
   "outputs": [
    {
     "name": "stdout",
     "output_type": "stream",
     "text": [
      "0.0010878118255277514\n"
     ]
    }
   ],
   "source": [
    "import timeit \n",
    "  \n",
    "# code snippet to be executed only once \n",
    "mysetup = \"from math import sqrt\"\n",
    "  \n",
    "# code snippet whose execution time is to be measured \n",
    "mycode = ''' \n",
    "def example(): \n",
    "   (i*i for i in np.xrange(1000))\n",
    "'''\n",
    "minutes = timeit.repeat(setup = mysetup, \n",
    "                    stmt = mycode, \n",
    "                    number = 10000,repeat=3)\n",
    "# timeit statement \n",
    "print(min(minutes))"
   ]
  },
  {
   "cell_type": "code",
   "execution_count": 20,
   "metadata": {},
   "outputs": [],
   "source": [
    "#os module\n"
   ]
  },
  {
   "cell_type": "code",
   "execution_count": 21,
   "metadata": {},
   "outputs": [
    {
     "name": "stdout",
     "output_type": "stream",
     "text": [
      "nt\n"
     ]
    }
   ],
   "source": [
    "import os\n",
    "print(os.name)"
   ]
  },
  {
   "cell_type": "code",
   "execution_count": 23,
   "metadata": {},
   "outputs": [
    {
     "name": "stdout",
     "output_type": "stream",
     "text": [
      "C:\\Users\\putta.reddy\\Videos\\MyResources\\DataScience\\MLStuff\\Python_Libraries\n"
     ]
    }
   ],
   "source": [
    "print(os.getcwd())"
   ]
  },
  {
   "cell_type": "code",
   "execution_count": 25,
   "metadata": {},
   "outputs": [
    {
     "name": "stdout",
     "output_type": "stream",
     "text": [
      "Problem reading doc\n"
     ]
    }
   ],
   "source": [
    "import os\n",
    "try:\n",
    "    filename = 'sum.txt'\n",
    "    f= open(filename,'r')\n",
    "    text=f.read()\n",
    "    f.close()\n",
    "except IOError:\n",
    "    print('Problem reading doc')\n",
    "    "
   ]
  },
  {
   "cell_type": "code",
   "execution_count": 31,
   "metadata": {},
   "outputs": [
    {
     "name": "stdout",
     "output_type": "stream",
     "text": [
      "hello\n"
     ]
    }
   ],
   "source": [
    "file = open(filename,'w')\n",
    "file.write('hello')\n",
    "file = open(filename,'r')\n",
    "txt = file.read()\n",
    "print(txt)\n",
    "file.close()"
   ]
  },
  {
   "cell_type": "code",
   "execution_count": 40,
   "metadata": {},
   "outputs": [
    {
     "name": "stdout",
     "output_type": "stream",
     "text": [
      "hello\n"
     ]
    },
    {
     "ename": "TypeError",
     "evalue": "an integer is required (got type _io.TextIOWrapper)",
     "output_type": "error",
     "traceback": [
      "\u001b[1;31m---------------------------------------------------------------------------\u001b[0m",
      "\u001b[1;31mTypeError\u001b[0m                                 Traceback (most recent call last)",
      "\u001b[1;32m<ipython-input-40-a22835bcfca0>\u001b[0m in \u001b[0;36m<module>\u001b[1;34m\u001b[0m\n\u001b[0;32m      4\u001b[0m \u001b[0mtext\u001b[0m \u001b[1;33m=\u001b[0m \u001b[0mfile\u001b[0m\u001b[1;33m.\u001b[0m\u001b[0mread\u001b[0m\u001b[1;33m(\u001b[0m\u001b[1;33m)\u001b[0m\u001b[1;33m\u001b[0m\u001b[0m\n\u001b[0;32m      5\u001b[0m \u001b[0mprint\u001b[0m\u001b[1;33m(\u001b[0m\u001b[0mtext\u001b[0m\u001b[1;33m)\u001b[0m\u001b[1;33m\u001b[0m\u001b[0m\n\u001b[1;32m----> 6\u001b[1;33m \u001b[0mos\u001b[0m\u001b[1;33m.\u001b[0m\u001b[0mclose\u001b[0m\u001b[1;33m(\u001b[0m\u001b[0mfile\u001b[0m\u001b[1;33m)\u001b[0m\u001b[1;33m\u001b[0m\u001b[0m\n\u001b[0m",
      "\u001b[1;31mTypeError\u001b[0m: an integer is required (got type _io.TextIOWrapper)"
     ]
    }
   ],
   "source": [
    "import os \n",
    "fd = \"sum.txt\"\n",
    "file = open(fd, 'r') \n",
    "text = file.read() \n",
    "print(text) \n",
    "os.close(file)"
   ]
  },
  {
   "cell_type": "code",
   "execution_count": 63,
   "metadata": {},
   "outputs": [
    {
     "name": "stdout",
     "output_type": "stream",
     "text": [
      "[1, 3, 3]\n"
     ]
    }
   ],
   "source": [
    "from itertools import groupby\n",
    "st = '1000111'\n",
    "lis = []\n",
    "for key,value in groupby(st):\n",
    "    lis.append(len(list(value)))\n",
    "print(lis)\n"
   ]
  },
  {
   "cell_type": "code",
   "execution_count": 60,
   "metadata": {},
   "outputs": [],
   "source": [
    "#copy\n"
   ]
  },
  {
   "cell_type": "code",
   "execution_count": 70,
   "metadata": {},
   "outputs": [
    {
     "name": "stdout",
     "output_type": "stream",
     "text": [
      "The original elements before shallow copying\n",
      "1 2 [3, 5] 4 \r\n",
      "The original elements after shallow copying\n",
      "1 2 [7, 5] 4 "
     ]
    }
   ],
   "source": [
    "# Python code to demonstrate copy operations \n",
    "  \n",
    "# importing \"copy\" for copy operations \n",
    "import copy \n",
    "  \n",
    "# initializing list 1 \n",
    "li1 = [1, 2, [3,5], 4] \n",
    "  \n",
    "# using copy to shallow copy  \n",
    "li2 = copy.copy(li1) \n",
    "  \n",
    "# original elements of list \n",
    "print (\"The original elements before shallow copying\") \n",
    "for i in range(0,len(li1)): \n",
    "    print (li1[i],end=\" \") \n",
    "  \n",
    "print(\"\\r\") \n",
    "  \n",
    "# adding and element to new list \n",
    "li2[2][0] = 7\n",
    "  \n",
    "# checking if change is reflected \n",
    "print (\"The original elements after shallow copying\") \n",
    "for i in range(0,len( li1)): \n",
    "    print (li1[i],end=\" \") "
   ]
  },
  {
   "cell_type": "code",
   "execution_count": 71,
   "metadata": {},
   "outputs": [
    {
     "name": "stdout",
     "output_type": "stream",
     "text": [
      "The original elements before shallow copying\n",
      "1 2 [3, 5] 4 \r\n",
      "The original elements after shallow copying\n",
      "1 2 [3, 5] 4 "
     ]
    }
   ],
   "source": [
    "# Python code to demonstrate copy operations \n",
    "  \n",
    "# importing \"copy\" for copy operations \n",
    "import copy \n",
    "  \n",
    "# initializing list 1 \n",
    "li1 = [1, 2, [3,5], 4] \n",
    "  \n",
    "# using copy to shallow copy  \n",
    "li2 = copy.deepcopy(li1) \n",
    "  \n",
    "# original elements of list \n",
    "print (\"The original elements before shallow copying\") \n",
    "for i in range(0,len(li1)): \n",
    "    print (li1[i],end=\" \") \n",
    "  \n",
    "print(\"\\r\") \n",
    "  \n",
    "# adding and element to new list \n",
    "li2[2][0] = 7\n",
    "  \n",
    "# checking if change is reflected \n",
    "print (\"The original elements after shallow copying\") \n",
    "for i in range(0,len( li1)): \n",
    "    print (li1[i],end=\" \") "
   ]
  },
  {
   "cell_type": "code",
   "execution_count": 72,
   "metadata": {},
   "outputs": [],
   "source": [
    "#deque"
   ]
  },
  {
   "cell_type": "code",
   "execution_count": 81,
   "metadata": {},
   "outputs": [
    {
     "name": "stdout",
     "output_type": "stream",
     "text": [
      "deque([1, 2, 2, 3, 4])\n",
      "deque([0, 1, 2, 2, 3, 4])\n",
      "deque([4, 0, 1, 2, 2, 3])\n"
     ]
    }
   ],
   "source": [
    "from collections import deque\n",
    "de = deque([1,2,2,3])\n",
    "de.append(4)\n",
    "print(de)\n",
    "de.appendleft(0)\n",
    "print(de)\n",
    "de.count(2)\n",
    "de.rotate(+1)\n",
    "print(de)"
   ]
  },
  {
   "cell_type": "code",
   "execution_count": 88,
   "metadata": {},
   "outputs": [
    {
     "name": "stdout",
     "output_type": "stream",
     "text": [
      "deque([7, 6, 5, 7, 6, 5, 7, 6, 5, 7, 6, 5, 7, 6, 5, 7, 6, 5, 4, 0, 1, 3, 5, 6, 7])\n",
      "deque([7, 6, 5, 3, 1, 0, 4, 5, 6, 7, 5, 6, 7, 5, 6, 7, 5, 6, 7, 5, 6, 7, 5, 6, 7])\n"
     ]
    }
   ],
   "source": [
    "li = [5,6,7]\n",
    "de.extendleft(li)\n",
    "print(de)\n",
    "de.reverse()\n",
    "print(de)\n",
    "de.remove(1)"
   ]
  },
  {
   "cell_type": "code",
   "execution_count": 90,
   "metadata": {},
   "outputs": [
    {
     "name": "stdout",
     "output_type": "stream",
     "text": [
      "Student(name='Sumanth', Id='15', marks='89')\n"
     ]
    }
   ],
   "source": [
    "from collections import namedtuple\n",
    "tup = namedtuple('Student',['name','Id','marks'])\n",
    "data = tup('Sumanth','15','89')\n",
    "print(data)"
   ]
  },
  {
   "cell_type": "code",
   "execution_count": 91,
   "metadata": {},
   "outputs": [
    {
     "data": {
      "text/plain": [
       "('name', 'Id', 'marks')"
      ]
     },
     "execution_count": 91,
     "metadata": {},
     "output_type": "execute_result"
    }
   ],
   "source": [
    "data._fields"
   ]
  },
  {
   "cell_type": "code",
   "execution_count": 92,
   "metadata": {},
   "outputs": [
    {
     "data": {
      "text/plain": [
       "Student(name='DeepikaSumanth', Id='15', marks='89')"
      ]
     },
     "execution_count": 92,
     "metadata": {},
     "output_type": "execute_result"
    }
   ],
   "source": [
    "data._replace(name='DeepikaSumanth')"
   ]
  },
  {
   "cell_type": "code",
   "execution_count": 93,
   "metadata": {},
   "outputs": [
    {
     "data": {
      "text/plain": [
       "Student(name='sumanth', Id=15, marks=234)"
      ]
     },
     "execution_count": 93,
     "metadata": {},
     "output_type": "execute_result"
    }
   ],
   "source": [
    "#named tuple using iterable\n",
    "li = ['sumanth',15,234]\n",
    "tup._make(li)"
   ]
  },
  {
   "cell_type": "code",
   "execution_count": 94,
   "metadata": {},
   "outputs": [
    {
     "data": {
      "text/plain": [
       "OrderedDict([('name', 'Sumanth'), ('Id', '15'), ('marks', '89')])"
      ]
     },
     "execution_count": 94,
     "metadata": {},
     "output_type": "execute_result"
    }
   ],
   "source": [
    "data._asdict()"
   ]
  },
  {
   "cell_type": "code",
   "execution_count": 95,
   "metadata": {},
   "outputs": [
    {
     "data": {
      "text/plain": [
       "Student(name='Nikhil', Id=19, marks='1391997')"
      ]
     },
     "execution_count": 95,
     "metadata": {},
     "output_type": "execute_result"
    }
   ],
   "source": [
    "di = { 'name' : \"Nikhil\", 'Id' : 19 , 'marks' : '1391997' } \n",
    "tup(**di)"
   ]
  },
  {
   "cell_type": "code",
   "execution_count": null,
   "metadata": {},
   "outputs": [],
   "source": []
  }
 ],
 "metadata": {
  "kernelspec": {
   "display_name": "Python 3",
   "language": "python",
   "name": "python3"
  },
  "language_info": {
   "codemirror_mode": {
    "name": "ipython",
    "version": 3
   },
   "file_extension": ".py",
   "mimetype": "text/x-python",
   "name": "python",
   "nbconvert_exporter": "python",
   "pygments_lexer": "ipython3",
   "version": "3.6.6"
  }
 },
 "nbformat": 4,
 "nbformat_minor": 2
}
